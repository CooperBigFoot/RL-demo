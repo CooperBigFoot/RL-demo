{
 "cells": [
  {
   "cell_type": "code",
   "execution_count": 1,
   "id": "a4c83a10",
   "metadata": {},
   "outputs": [],
   "source": [
    "import torch\n",
    "\n",
    "from rl_demo.envs import DiscreteReservoirEnv"
   ]
  },
  {
   "cell_type": "code",
   "execution_count": 27,
   "id": "0f2f55a1",
   "metadata": {},
   "outputs": [
    {
     "name": "stdout",
     "output_type": "stream",
     "text": [
      "Resetting environment...\n",
      "Initial observation shape: torch.Size([13])\n",
      "Initial volume percentage: 0.50\n",
      "\n",
      "Running 10 steps with random actions:\n",
      "Step 1: Action= 7, Volume%=0.57, Reward=  0.15, Done=False\n",
      "Step 2: Action= 0, Volume%=0.66, Reward= -5.00, Done=False\n",
      "Step 3: Action= 8, Volume%=0.74, Reward=  0.31, Done=False\n",
      "Step 4: Action= 4, Volume%=0.83, Reward=  0.20, Done=False\n",
      "Step 5: Action= 3, Volume%=0.92, Reward= -4.23, Done=False\n",
      "Step 6: Action= 9, Volume%=0.91, Reward= -3.19, Done=False\n",
      "Step 7: Action= 0, Volume%=1.00, Reward=-15.00, Done=True\n",
      "Episode terminated!\n",
      "\n",
      "Environment test completed successfully!\n"
     ]
    }
   ],
   "source": [
    "\n",
    "env = DiscreteReservoirEnv(\n",
    "    v_max=1000.0,\n",
    "    v_min=100.0,\n",
    "    \n",
    "    v_dead=50.0,\n",
    "    initial_volume=500.0,\n",
    ")\n",
    "\n",
    "# Reset environment\n",
    "print(\"Resetting environment...\")\n",
    "td = env.reset()\n",
    "print(f\"Initial observation shape: {td['observation'].shape}\")\n",
    "print(f\"Initial volume percentage: {td['observation'][0]:.2f}\")\n",
    "\n",
    "# Run a few steps with random actions\n",
    "print(\"\\nRunning 10 steps with random actions:\")\n",
    "for step in range(10):\n",
    "    # Sample random action\n",
    "    action = torch.randint(0, 11, (1,))[0]\n",
    "    td[\"action\"] = action\n",
    "    \n",
    "    # Take step\n",
    "    td = env.step(td)\n",
    "    \n",
    "    # Extract info from nested structure\n",
    "    obs = td[\"next\"][\"observation\"]\n",
    "    reward = td[\"next\"][\"reward\"].item()\n",
    "    done = td[\"next\"][\"done\"].item()\n",
    "    \n",
    "    print(f\"Step {step+1}: Action={action.item():2d}, \"\n",
    "            f\"Volume%={obs[0]:.2f}, Reward={reward:6.2f}, Done={done}\")\n",
    "    \n",
    "    if done:\n",
    "        print(\"Episode terminated!\")\n",
    "        break\n",
    "\n",
    "print(\"\\nEnvironment test completed successfully!\")\n",
    "\n"
   ]
  },
  {
   "cell_type": "code",
   "execution_count": null,
   "id": "3d9214b3",
   "metadata": {},
   "outputs": [],
   "source": []
  }
 ],
 "metadata": {
  "kernelspec": {
   "display_name": "RL-demo (uv)",
   "language": "python",
   "name": "rl-demo"
  },
  "language_info": {
   "codemirror_mode": {
    "name": "ipython",
    "version": 3
   },
   "file_extension": ".py",
   "mimetype": "text/x-python",
   "name": "python",
   "nbconvert_exporter": "python",
   "pygments_lexer": "ipython3",
   "version": "3.12.8"
  }
 },
 "nbformat": 4,
 "nbformat_minor": 5
}
