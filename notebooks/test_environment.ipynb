{
 "cells": [
  {
   "cell_type": "code",
   "execution_count": null,
   "id": "a4c83a10",
   "metadata": {},
   "outputs": [],
   "source": [
    "import torch\n",
    "\n",
    "from rl_demo.envs import DiscreteReservoirEnv"
   ]
  },
  {
   "cell_type": "code",
   "execution_count": null,
   "id": "0f2f55a1",
   "metadata": {},
   "outputs": [],
   "source": [
    "\n",
    "env = DiscreteReservoirEnv(\n",
    "    v_max=1000.0,\n",
    "    v_min=100.0,\n",
    "    \n",
    "    v_dead=50.0,\n",
    "    initial_volume=500.0,\n",
    ")\n",
    "\n",
    "# Reset environment\n",
    "print(\"Resetting environment...\")\n",
    "td = env.reset()\n",
    "print(f\"Initial observation shape: {td['observation'].shape}\")\n",
    "print(f\"Initial volume percentage: {td['observation'][0]:.2f}\")\n",
    "\n",
    "# Run a few steps with random actions\n",
    "print(\"\\nRunning 10 steps with random actions:\")\n",
    "for step in range(10):\n",
    "    # Sample random action\n",
    "    action = torch.randint(0, 11, (1,))[0]\n",
    "    td[\"action\"] = action\n",
    "    \n",
    "    # Take step\n",
    "    td = env.step(td)\n",
    "    \n",
    "    # Extract info from nested structure\n",
    "    obs = td[\"next\"][\"observation\"]\n",
    "    reward = td[\"next\"][\"reward\"].item()\n",
    "    done = td[\"next\"][\"done\"].item()\n",
    "    \n",
    "    print(f\"Step {step+1}: Action={action.item():2d}, \"\n",
    "            f\"Volume%={obs[0]:.2f}, Reward={reward:6.2f}, Done={done}\")\n",
    "    \n",
    "    if done:\n",
    "        print(\"Episode terminated!\")\n",
    "        break\n",
    "\n",
    "print(\"\\nEnvironment test completed successfully!\")\n",
    "\n"
   ]
  }
 ],
 "metadata": {
  "kernelspec": {
   "display_name": "rl-demo",
   "language": "python",
   "name": "python3"
  },
  "language_info": {
   "codemirror_mode": {
    "name": "ipython",
    "version": 3
   },
   "file_extension": ".py",
   "mimetype": "text/x-python",
   "name": "python",
   "nbconvert_exporter": "python",
   "pygments_lexer": "ipython3",
   "version": "3.12.8"
  }
 },
 "nbformat": 4,
 "nbformat_minor": 5
}
