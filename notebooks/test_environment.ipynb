{
 "cells": [
  {
   "cell_type": "code",
   "execution_count": null,
   "id": "a4c83a10",
   "metadata": {},
   "outputs": [],
   "source": [
    "import torch\n",
    "\n",
    "from rl_demo.envs import DiscreteReservoirEnv"
   ]
  },
  {
   "cell_type": "code",
   "execution_count": 2,
   "id": "0f2f55a1",
   "metadata": {},
   "outputs": [
    {
     "name": "stdout",
     "output_type": "stream",
     "text": [
      "Resetting environment...\n",
      "Initial observation shape: torch.Size([13])\n",
      "Initial volume percentage: 0.50\n",
      "\n",
      "Running 10 steps with random actions:\n",
      "Step 1: Action= 0, Volume%=0.56, Reward=-50.00, Done=False\n",
      "Step 2: Action= 2, Volume%=0.66, Reward=  2.19, Done=False\n",
      "Step 3: Action= 2, Volume%=0.76, Reward=  7.95, Done=False\n",
      "Step 4: Action= 7, Volume%=0.82, Reward= 36.37, Done=False\n",
      "Step 5: Action= 8, Volume%=0.86, Reward=-73.74, Done=False\n",
      "Step 6: Action= 0, Volume%=0.98, Reward=-1308.72, Done=False\n",
      "Step 7: Action= 9, Volume%=0.99, Reward=-1336.68, Done=False\n",
      "Step 8: Action= 6, Volume%=1.00, Reward=-1447.82, Done=False\n",
      "Step 9: Action=10, Volume%=1.00, Reward=-1410.92, Done=False\n",
      "Step 10: Action= 4, Volume%=1.00, Reward=-1465.08, Done=False\n",
      "\n",
      "Environment test completed successfully!\n"
     ]
    }
   ],
   "source": [
    "\n",
    "env = DiscreteReservoirEnv(\n",
    "    v_max=1000.0,\n",
    "    v_min=100.0,\n",
    "    \n",
    "    v_dead=50.0,\n",
    "    initial_volume=500.0,\n",
    ")\n",
    "\n",
    "# Reset environment\n",
    "print(\"Resetting environment...\")\n",
    "td = env.reset()\n",
    "print(f\"Initial observation shape: {td['observation'].shape}\")\n",
    "print(f\"Initial volume percentage: {td['observation'][0]:.2f}\")\n",
    "\n",
    "# Run a few steps with random actions\n",
    "print(\"\\nRunning 10 steps with random actions:\")\n",
    "for step in range(10):\n",
    "    # Sample random action\n",
    "    action = torch.randint(0, 11, (1,))[0]\n",
    "    td[\"action\"] = action\n",
    "    \n",
    "    # Take step\n",
    "    td = env.step(td)\n",
    "    \n",
    "    # Extract info from nested structure\n",
    "    obs = td[\"next\"][\"observation\"]\n",
    "    reward = td[\"next\"][\"reward\"].item()\n",
    "    done = td[\"next\"][\"done\"].item()\n",
    "    \n",
    "    print(f\"Step {step+1}: Action={action.item():2d}, \"\n",
    "            f\"Volume%={obs[0]:.2f}, Reward={reward:6.2f}, Done={done}\")\n",
    "    \n",
    "    if done:\n",
    "        print(\"Episode terminated!\")\n",
    "        break\n",
    "\n",
    "print(\"\\nEnvironment test completed successfully!\")\n",
    "\n"
   ]
  },
  {
   "cell_type": "code",
   "execution_count": null,
   "id": "3d9214b3",
   "metadata": {},
   "outputs": [],
   "source": []
  }
 ],
 "metadata": {
  "kernelspec": {
   "display_name": "rl-demo",
   "language": "python",
   "name": "python3"
  },
  "language_info": {
   "codemirror_mode": {
    "name": "ipython",
    "version": 3
   },
   "file_extension": ".py",
   "mimetype": "text/x-python",
   "name": "python",
   "nbconvert_exporter": "python",
   "pygments_lexer": "ipython3",
   "version": "3.12.8"
  }
 },
 "nbformat": 4,
 "nbformat_minor": 5
}
